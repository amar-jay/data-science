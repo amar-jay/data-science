{
 "cells": [
  {
   "cell_type": "code",
   "execution_count": null,
   "metadata": {},
   "outputs": [],
   "source": []
  },
  {
   "cell_type": "markdown",
   "metadata": {},
   "source": [
    "## Example 1.2.1 (Flights and rain).\n",
    "JFK airport hires you to estimate how the punctuality of flight arrivals is affected by the weather. You begin by defining a probability space for which the sample space is\n",
    "Ω = {late and rain, late and no rain, on time and rain, on time and no rain}\n",
    "P(late, no rain) = 2/20\n",
    "P(on time, no rain) = 14/20\n",
    "P(late,rain) = 3/20\n",
    "P(on time,rain) = 1/20"
   ]
  },
  {
   "cell_type": "code",
   "execution_count": null,
   "metadata": {},
   "outputs": [],
   "source": [
    "lateNnorain = 2/20\n",
    "ontimeNnorain = 14/20\n",
    "lateNrain = 3/20\n",
    "ontimeNrain = 1/20\n",
    "\n",
    "probs = {'late-notrain': lateNnorain, 'notlate-notrain':ontimeNnorain, 'late-rain': lateNrain, 'notlate-rain': ontimeNrain, 'rain': lateNrain + ontimeNrain, 'late': lateNrain + lateNnorain}\n",
    "print(\"data\", probs)\n",
    "\n",
    "def conditional(AnB, B, statement):\n",
    "    \"\"\"P (A ∩ B) = P(A) . P(B|A)\"\"\"\n",
    "  ans = AnB/B\n",
    "  print(f\"{statement} = {ans}\")\n",
    "  return ans\n",
    "\n",
    "lateifrain= conditional(probs[\"late-rain\"], probs[\"rain\"], \"late|rain\") \n",
    "rainiflate= conditional(probs[\"late-rain\"], probs[\"late\"], \"rain|late\") \n",
    "\n",
    "notlateifrain= conditional(probs[\"notlate-rain\"], probs[\"rain\"], \"notlate|rain\") \n",
    "notlateifrain= conditional(probs[\"notlate-rain\"], 1-probs[\"late\"], \"rain|notlate\") \n",
    "\n",
    "lateifnotrain= conditional(probs[\"late-notrain\"], 1-probs[\"rain\"], \"late|notrain\")\n",
    "lateifnotrain= conditional(probs[\"late-notrain\"], 1-probs[\"late\"], \"notrain|late\")"
   ]
  },
  {
   "cell_type": "markdown",
   "metadata": {},
   "source": [
    "### P(A ∩ B) = P(A) . P(B|A)\n",
    "- Analogously, P (A|B) is known as the posterior probability. \n",
    "- These are fundamental quantities in Bayesian models.\n",
    "- Generalizing the eqn to a sequence of events gives the chain rule, which allows to express the probability of the intersection of multiple events in terms of conditional probabilities.\n",
    "\n",
    "***Cannot be written here***"
   ]
  }
 ],
 "metadata": {
  "language_info": {
   "name": "python"
  },
  "orig_nbformat": 4
 },
 "nbformat": 4,
 "nbformat_minor": 2
}
