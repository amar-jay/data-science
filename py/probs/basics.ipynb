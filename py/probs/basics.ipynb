{
 "cells": [
  {
   "cell_type": "code",
   "execution_count": null,
   "metadata": {},
   "outputs": [],
   "source": []
  },
  {
   "cell_type": "markdown",
   "metadata": {},
   "source": [
    "## Example 1.2.1 (Flights and rain).\n",
    "JFK airport hires you to estimate how the punctuality of flight arrivals is affected by the weather. You begin by defining a probability space for which the sample space is\n",
    "Ω = {late and rain, late and no rain, on time and rain, on time and no rain}\n",
    "P(late, no rain) = 2/20\n",
    "P(on time, no rain) = 14/20\n",
    "P(late,rain) = 3/20\n",
    "P(on time,rain) = 1/20"
   ]
  },
  {
   "cell_type": "code",
   "execution_count": null,
   "metadata": {},
   "outputs": [],
   "source": [
    "Probs = {\n",
    "    lateAndNorain: 2/20,\n",
    "    ontimeAndNorain: 14/20,\n",
    "    lateAndRain: 3/20,\n",
    "    ontimeAndRain: 1/20\n",
    "}\n",
    "\n",
    "print(Probs)"
   ]
  }
 ],
 "metadata": {
  "language_info": {
   "name": "python"
  },
  "orig_nbformat": 4
 },
 "nbformat": 4,
 "nbformat_minor": 2
}
