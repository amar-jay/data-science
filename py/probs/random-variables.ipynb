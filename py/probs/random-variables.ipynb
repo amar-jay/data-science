{
 "cells": [
  {
   "cell_type": "code",
   "execution_count": null,
   "metadata": {},
   "outputs": [],
   "source": [
    "from collections import defaultdict\n",
    "from pandas import DataFrame"
   ]
  },
  {
   "cell_type": "markdown",
   "metadata": {},
   "source": [
    "what is the probability that the sum of the dice equals seven? \n",
    "First, characterize the measurable function for this as $X:(a,b) \\mapsto (a+b)$.\n",
    "Next, we associate all of the $(a,b)$ pairs with their sum. "
   ]
  },
  {
   "cell_type": "code",
   "execution_count": null,
   "metadata": {},
   "outputs": [],
   "source": [
    "throws = {(i,j):i+j for i in range(1,7) for j in range(1,7)}\n",
    "totalnumofthrows = 6*6\n",
    "sumtothrow = defaultdict(list)\n",
    "for i in throws.keys():\n",
    "  val = throws[i]\n",
    "  sumtothrow[val].append(i)\n",
    "\n",
    "print(\"(first, second) with sum 7: \", sumtothrow[7])\n",
    "sumtoprob={i:len(j)/36. for i,j in sumtothrow}\n",
    "print(\"therefore, the prob of a dice rolling seven = \", sumtoprob[7])\n"
   ]
  },
  {
   "cell_type": "markdown",
   "metadata": {},
   "source": [
    "Now let us assume the first problem with the two dice where we want the probability of a\n",
    "seven, but this time one of the dice is no longer fair. The distribution for\n",
    "the unfair die is the following:\n",
    "\n",
    "$$\n",
    "\\mathbb{P}(\\lbrace 1\\rbrace)=\\mathbb{P}(\\lbrace 2 \\rbrace)=\\mathbb{P}(\\lbrace 3 \\rbrace)  = \\frac{1}{9} \\\\\\ \\\\\\\n",
    "\\mathbb{P}(\\lbrace 4\\rbrace)=\\mathbb{P}(\\lbrace 5 \\rbrace)=\\mathbb{P}(\\lbrace 6 \\rbrace)  = \\frac{2}{9} \n",
    "$$\n",
    "we know the elements corresponding to the sum of seven are the following:\n",
    "$$\n",
    "[ (1, 6), (2, 5), (3, 4), (4, 3), (5, 2), (6, 1) ]\n",
    "$$\n",
    "And we know,\n",
    "$ \\mathbb{P}((a,b)) = \\mathbb{P}(a)\\cdot\\mathbb{P}(b) = \\frac{a}{6} \\times \\frac{b}{6} $ therefore,\n",
    "$$\n",
    "\\mathbb{P}_X(7) =  \\frac{1}{9} \\times \\frac{1}{6} \n",
    "                      +\\frac{1}{9} \\times \\frac{1}{6} \n",
    "                      +\\frac{1}{9} \\times \\frac{1}{6} \n",
    "                      +\\frac{2}{9} \\times \\frac{1}{6} \n",
    "                      +\\frac{2}{9} \\times \\frac{1}{6} \n",
    "                      +\\frac{2}{9} \\times \\frac{1}{6}  = \\frac{1}{6}\n",
    "$$"
   ]
  }
 ],
 "metadata": {
  "language_info": {
   "name": "python"
  },
  "orig_nbformat": 4
 },
 "nbformat": 4,
 "nbformat_minor": 2
}
